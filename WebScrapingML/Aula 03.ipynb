{
 "cells": [
  {
   "cell_type": "markdown",
   "id": "e8e66b9b",
   "metadata": {},
   "source": [
    "# Aula 03 - Maratona Python com BI"
   ]
  },
  {
   "cell_type": "code",
   "execution_count": 1,
   "id": "a5b7cfd0",
   "metadata": {},
   "outputs": [],
   "source": [
    "#https://www.youtube.com/watch?v=kuF94ZmZO8s&t=125s"
   ]
  },
  {
   "cell_type": "markdown",
   "id": "99fc4349",
   "metadata": {},
   "source": [
    "## 0. Review\n",
    "- Aprender funcoes personalizadas\n",
    "- Tratar e se precaver dos erros\n",
    "- quebrar o texto com BS4\n",
    "- usar o loop and while"
   ]
  },
  {
   "cell_type": "code",
   "execution_count": 2,
   "id": "0e450b10",
   "metadata": {},
   "outputs": [],
   "source": [
    "from bs4 import BeautifulSoup\n",
    "import pandas as pd"
   ]
  },
  {
   "cell_type": "code",
   "execution_count": 156,
   "id": "7c2c52f7",
   "metadata": {},
   "outputs": [],
   "source": [
    "import warnings\n",
    "warnings.filterwarnings('ignore')"
   ]
  },
  {
   "cell_type": "code",
   "execution_count": 5,
   "id": "12c7a00a",
   "metadata": {},
   "outputs": [],
   "source": [
    "#criando funcao para pegar aquivo de html local\n",
    "def PegaHtm1Local(nome, path_subpasta = ''):\n",
    "\n",
    "    # trata path do sublocat\n",
    "    if path_subpasta == '':\n",
    "        path_subpasta = ''\n",
    "    else :\n",
    "        path_subpasta = path_subpasta + '/'\n",
    "        \n",
    "    # abra o arquivo, e alimente variavel.\n",
    "    # o 'r' significa que é somente para Ler o arquivo.\n",
    "    with open(path_subpasta + str(nome) + '.html', 'r') as f:\n",
    "        soup = BeautifulSoup(f, 'html5lib')\n",
    "    \n",
    "    return soup"
   ]
  },
  {
   "cell_type": "markdown",
   "id": "199461bc",
   "metadata": {},
   "source": [
    "## 1. Usando APIs"
   ]
  },
  {
   "cell_type": "code",
   "execution_count": 7,
   "id": "4795a9a9",
   "metadata": {},
   "outputs": [],
   "source": [
    "# Se tiver API, como usar\n",
    "import requests\n",
    "import ast\n",
    "import pandas as pd"
   ]
  },
  {
   "cell_type": "code",
   "execution_count": 11,
   "id": "6036f295",
   "metadata": {},
   "outputs": [],
   "source": [
    "user_agent = 'Mozilla/5.0 (Windows NT 10.0; WOW64) AppleWebKit/537.36 (KHTML, like Gecko) Chrome/109.0.0.0 Safari/537.36'\n",
    "headers = { 'User-Agent' : user_agent}\n",
    "url = \"http://api.willcode.tech/funcionarios/?USUARIO=USUARIO&SENHA=SENHA&ACAO=LISTAR-TODOS&SHOWEMPTY\"\n",
    "response = requests.request(\"GET\",url)\n"
   ]
  },
  {
   "cell_type": "code",
   "execution_count": 14,
   "id": "aa0d4693",
   "metadata": {},
   "outputs": [
    {
     "data": {
      "text/plain": [
       "{'API': '/api/funcionarios/',\n",
       " 'ERROR_TYPE': 'AuthException',\n",
       " 'ERROR_CODE': '',\n",
       " 'ERROR_MESSAGE': 'Falha ao realizar login. Verifique suas credenciais',\n",
       " 'REQUEST': '{\"USUARIO\":\"USUARIO\",\"SENHA\":\"SENHA\",\"ACAO\":\"LISTAR-TODOS\",\"SHOWEMPTY\":\"\"}'}"
      ]
     },
     "execution_count": 14,
     "metadata": {},
     "output_type": "execute_result"
    }
   ],
   "source": [
    "response.json()\n",
    "pd.DataFrame.from_dict(response.json())"
   ]
  },
  {
   "cell_type": "markdown",
   "id": "a7b9ae02",
   "metadata": {},
   "source": [
    "## 2. Alimentar Banco de Dados"
   ]
  },
  {
   "cell_type": "code",
   "execution_count": 15,
   "id": "1d0c4944",
   "metadata": {},
   "outputs": [],
   "source": [
    "#Importanto bibliotecas\n",
    "import time\n",
    "import pandas as pd\n",
    "\n",
    "from urllib.error import URLError, HTTPError\n",
    "from urllib.request import Request, urlopen\n",
    "import bs4"
   ]
  },
  {
   "cell_type": "code",
   "execution_count": null,
   "id": "7876536f",
   "metadata": {},
   "outputs": [],
   "source": [
    "#Definindo o header de consulta na web\n",
    "user_agent = 'Mozilla/5.0 (Windows NT 10.0; WOW64) AppleWebKit/537.36 (KHTML, like Gecko) Chrome/109.0.0.0 Safari/537.36'\n",
    "headers = {'User-Agent' : user_agent}"
   ]
  },
  {
   "cell_type": "code",
   "execution_count": 76,
   "id": "b30eeff9",
   "metadata": {},
   "outputs": [],
   "source": [
    "# Funcao para chamar a pagina WEB\n",
    "def ConsultaWebB(url):\n",
    "    try:\n",
    "        req = Request(url, headers = headers)\n",
    "        response = urlopen(req)\n",
    "        return response.read()\n",
    "    \n",
    "    except:\n",
    "        pass\n",
    "    "
   ]
  },
  {
   "cell_type": "code",
   "execution_count": 77,
   "id": "23eea122",
   "metadata": {},
   "outputs": [],
   "source": [
    "# Funcäo para pegar a pägina encontrada e transformar em um objeto utilizävel\n",
    "def captura_html_pagina(url):\n",
    "    html = ConsultaWebB(url)\n",
    "    soup = bs4.BeautifulSoup(html,'html.parser')\n",
    "    return soup\n"
   ]
  },
  {
   "cell_type": "code",
   "execution_count": 78,
   "id": "ee7f3f95",
   "metadata": {},
   "outputs": [],
   "source": [
    "# Funcao para capturar as informacoes da \"tabelinha cabecalho\" da pagina\n",
    "def Cabecalho(html):\n",
    "    dt = html.find_all('dt') \n",
    "    dd = html.find_all('dd')\n",
    "    dic = {}\n",
    "    for i in range(len(dt)):\n",
    "        x = dt[i].get_text()\n",
    "        y = dd[i].get_text()\n",
    "        dic[x]=y\n",
    "    return dic"
   ]
  },
  {
   "cell_type": "code",
   "execution_count": 199,
   "id": "a3e90f21",
   "metadata": {},
   "outputs": [],
   "source": [
    "#Funcao para capturar o conteudo da pagina e transformar em dicionario\n",
    "def Conteudo(proposicao,ano):\n",
    "    url = 'https://www.legislador.com.br//LegisladorWEB.ASP?WCI=ProposicaoTexto&ID=3&TPProposicao=1&nrProposicao='+str(proposicao)+'&aaProposicao='+str(ano)\n",
    "    html = captura_html_pagina(url)\n",
    "    dic = Cabecalho(html)\n",
    "    dic['Proposicao'] = proposicao\n",
    "    dic['Ano'] = ano\n",
    "    dic['Texto'] = html.p.get_text()\n",
    "    #Ajustando a data no formato AAAAMMDD\n",
    "    data_reuniao = str(dic[\"Reunião\"]).split('/')  \n",
    "    dic.update({'Reunião':data_reuniao[2]+data_reuniao[1]+data_reuniao[0]})\n",
    "    data_deliberacao = str(dic[\"Deliberação\"]).split('/')  \n",
    "    dic.update({'Deliberação':data_deliberacao[2]+data_deliberacao[1]+data_deliberacao[0]})\n",
    "    return dic"
   ]
  },
  {
   "cell_type": "code",
   "execution_count": 200,
   "id": "5e4a9d3c",
   "metadata": {},
   "outputs": [
    {
     "data": {
      "text/plain": [
       "{'Reunião': '20210211',\n",
       " 'Deliberação': '20210211',\n",
       " 'Situação': 'Proposição Aprovada',\n",
       " 'Assunto': 'Manutenção de via pública',\n",
       " 'Autor': 'Vereador Valentim Blasius.',\n",
       " 'Proposicao': 200,\n",
       " 'Ano': 2021,\n",
       " 'Texto': 'O Vereador abaixo firmado requer, após ouvido o Plenário, encaminhamento de cópia da presente Indicação à Secretaria de Urbanização e Meio Ambiente solicitando manutenção de calçada da rua 25 de Maio, defronte ao nº 266, Carijós. A pedido de moradores.'}"
      ]
     },
     "execution_count": 200,
     "metadata": {},
     "output_type": "execute_result"
    }
   ],
   "source": [
    "teste2 = Conteudo(proposicao,ano)\n",
    "teste2"
   ]
  },
  {
   "cell_type": "code",
   "execution_count": null,
   "id": "2c252851",
   "metadata": {},
   "outputs": [],
   "source": []
  },
  {
   "cell_type": "code",
   "execution_count": 80,
   "id": "ec6914be",
   "metadata": {},
   "outputs": [],
   "source": [
    "#Funcao Geral que retorna um df com todas as informacoes e controla erros\n",
    "def TabelaResultados(iniciar_em, quantidade, ano, erros_admissiveis, segundos_espera):\n",
    "    \n",
    "    ultima_consulta = iniciar_em + quantidade -1\n",
    "\n",
    "    #Erros\n",
    "    erros = 0\n",
    "\n",
    "    #Variaveis para o loop\n",
    "    lista = []\n",
    "    i=1\n",
    "\n",
    "    while iniciar_em <= ultima_consulta and erros <= erros_admissiveis:\n",
    "        try:\n",
    "            x = Conteudo(iniciar_em,ano)\n",
    "            lista = lista + [Conteudo(iniciar_em,ano)]\n",
    "        except:\n",
    "            erros += 1\n",
    "            pass\n",
    "\n",
    "        time.sleep(segundos_espera)\n",
    "\n",
    "        #incrementos\n",
    "        iniciar_em += 1\n",
    "        i += 1\n",
    "\n",
    "    return pd.DataFrame(lista)"
   ]
  },
  {
   "cell_type": "code",
   "execution_count": 201,
   "id": "68ab7530",
   "metadata": {},
   "outputs": [
    {
     "data": {
      "text/html": [
       "<div>\n",
       "<style scoped>\n",
       "    .dataframe tbody tr th:only-of-type {\n",
       "        vertical-align: middle;\n",
       "    }\n",
       "\n",
       "    .dataframe tbody tr th {\n",
       "        vertical-align: top;\n",
       "    }\n",
       "\n",
       "    .dataframe thead th {\n",
       "        text-align: right;\n",
       "    }\n",
       "</style>\n",
       "<table border=\"1\" class=\"dataframe\">\n",
       "  <thead>\n",
       "    <tr style=\"text-align: right;\">\n",
       "      <th></th>\n",
       "      <th>Reunião</th>\n",
       "      <th>Deliberação</th>\n",
       "      <th>Situação</th>\n",
       "      <th>Assunto</th>\n",
       "      <th>Autor</th>\n",
       "      <th>Proposicao</th>\n",
       "      <th>Ano</th>\n",
       "      <th>Texto</th>\n",
       "    </tr>\n",
       "  </thead>\n",
       "  <tbody>\n",
       "    <tr>\n",
       "      <th>0</th>\n",
       "      <td>20210408</td>\n",
       "      <td>20210408</td>\n",
       "      <td>Proposição Aprovada</td>\n",
       "      <td>Limpeza, Macadamização, Patrolamento, Retifica...</td>\n",
       "      <td>Vereador Flávio Augusto Ferri Molinari.</td>\n",
       "      <td>500</td>\n",
       "      <td>2021</td>\n",
       "      <td>O vereador que está subscreve, no uso das atri...</td>\n",
       "    </tr>\n",
       "    <tr>\n",
       "      <th>1</th>\n",
       "      <td>20210408</td>\n",
       "      <td>20210408</td>\n",
       "      <td>Proposição Aprovada</td>\n",
       "      <td>Pontes, Bueiros, boca de lobo</td>\n",
       "      <td>Vereador Flávio Augusto Ferri Molinari.</td>\n",
       "      <td>501</td>\n",
       "      <td>2021</td>\n",
       "      <td>O vereador que está subscreve, no uso das atri...</td>\n",
       "    </tr>\n",
       "    <tr>\n",
       "      <th>2</th>\n",
       "      <td>20210408</td>\n",
       "      <td>20210408</td>\n",
       "      <td>Proposição Aprovada</td>\n",
       "      <td>Manutenção de via pública</td>\n",
       "      <td>Vereador Fernanda dos Santos.</td>\n",
       "      <td>502</td>\n",
       "      <td>2021</td>\n",
       "      <td>A vereadora que esta subscreve, no uso das atr...</td>\n",
       "    </tr>\n",
       "    <tr>\n",
       "      <th>3</th>\n",
       "      <td>20210408</td>\n",
       "      <td>20210408</td>\n",
       "      <td>Proposição Aprovada</td>\n",
       "      <td>Manutenção de via pública</td>\n",
       "      <td>Vereador Fernanda dos Santos.</td>\n",
       "      <td>503</td>\n",
       "      <td>2021</td>\n",
       "      <td>A vereadora que esta subscreve, no uso das atr...</td>\n",
       "    </tr>\n",
       "    <tr>\n",
       "      <th>4</th>\n",
       "      <td>20210408</td>\n",
       "      <td>20210408</td>\n",
       "      <td>Proposição Aprovada</td>\n",
       "      <td>Trânsito</td>\n",
       "      <td>Vereador Márcio Moisés Selhorst.</td>\n",
       "      <td>504</td>\n",
       "      <td>2021</td>\n",
       "      <td>O vereador que esta subscreve, no uso das atri...</td>\n",
       "    </tr>\n",
       "  </tbody>\n",
       "</table>\n",
       "</div>"
      ],
      "text/plain": [
       "    Reunião Deliberação             Situação  \\\n",
       "0  20210408    20210408  Proposição Aprovada   \n",
       "1  20210408    20210408  Proposição Aprovada   \n",
       "2  20210408    20210408  Proposição Aprovada   \n",
       "3  20210408    20210408  Proposição Aprovada   \n",
       "4  20210408    20210408  Proposição Aprovada   \n",
       "\n",
       "                                             Assunto  \\\n",
       "0  Limpeza, Macadamização, Patrolamento, Retifica...   \n",
       "1                      Pontes, Bueiros, boca de lobo   \n",
       "2                          Manutenção de via pública   \n",
       "3                          Manutenção de via pública   \n",
       "4                                           Trânsito   \n",
       "\n",
       "                                     Autor  Proposicao   Ano  \\\n",
       "0  Vereador Flávio Augusto Ferri Molinari.         500  2021   \n",
       "1  Vereador Flávio Augusto Ferri Molinari.         501  2021   \n",
       "2            Vereador Fernanda dos Santos.         502  2021   \n",
       "3            Vereador Fernanda dos Santos.         503  2021   \n",
       "4         Vereador Márcio Moisés Selhorst.         504  2021   \n",
       "\n",
       "                                               Texto  \n",
       "0  O vereador que está subscreve, no uso das atri...  \n",
       "1  O vereador que está subscreve, no uso das atri...  \n",
       "2  A vereadora que esta subscreve, no uso das atr...  \n",
       "3  A vereadora que esta subscreve, no uso das atr...  \n",
       "4  O vereador que esta subscreve, no uso das atri...  "
      ]
     },
     "execution_count": 201,
     "metadata": {},
     "output_type": "execute_result"
    }
   ],
   "source": [
    "teste = TabelaResultados(500, 5, 2021, 2, 0.5)\n",
    "teste"
   ]
  },
  {
   "cell_type": "code",
   "execution_count": null,
   "id": "f81aaf64",
   "metadata": {},
   "outputs": [],
   "source": []
  },
  {
   "cell_type": "markdown",
   "id": "eb7391f6",
   "metadata": {},
   "source": [
    "## 2. Criando o Banco de Dados e Tabelas"
   ]
  },
  {
   "cell_type": "markdown",
   "id": "1a72b821",
   "metadata": {},
   "source": [
    "### 2.1 Youtube Video pra instalar o SSMS e SQL Server"
   ]
  },
  {
   "cell_type": "code",
   "execution_count": null,
   "id": "8f669824",
   "metadata": {},
   "outputs": [],
   "source": [
    "from IPython.display import YouTubeVideo\n",
    "YouTubeVideo('NthkdjtEKvc', width=720, height=405)"
   ]
  },
  {
   "cell_type": "markdown",
   "id": "791c8de1",
   "metadata": {},
   "source": [
    "### 2.2 Criando o BD"
   ]
  },
  {
   "cell_type": "code",
   "execution_count": null,
   "id": "717a72c9",
   "metadata": {},
   "outputs": [],
   "source": [
    "list(teste.columns)"
   ]
  },
  {
   "cell_type": "code",
   "execution_count": null,
   "id": "8a9a943b",
   "metadata": {},
   "outputs": [],
   "source": [
    "teste.dtypes"
   ]
  },
  {
   "cell_type": "markdown",
   "id": "bae2eb2a",
   "metadata": {},
   "source": [
    ">\n",
    "\n",
    "> Criando um script para criar a table Usando tag sql para formato\n",
    "\n",
    "```sql\n",
    "CREATE TABLE Proposicoes(\n",
    "    DataReuniao DATE,\n",
    "    DataDeliberacao DATE,\n",
    "    Situacao VARCHAR(200)\n",
    "    Assunto VARCHAR(1000)\n",
    "    Autor VARCHAR(1000)\n",
    "    Proposicao INT,\n",
    "    Ano INT,\n",
    "    Texto VARCHAR(MAX)\n",
    ")\n",
    "```\n",
    "> Usando tag sql para formato"
   ]
  },
  {
   "cell_type": "markdown",
   "id": "b97d0a4b",
   "metadata": {},
   "source": [
    "## 2.3 Alimentando as Tables"
   ]
  },
  {
   "cell_type": "code",
   "execution_count": 94,
   "id": "b803cd2c",
   "metadata": {},
   "outputs": [
    {
     "data": {
      "text/plain": [
       "'4.0.35'"
      ]
     },
     "execution_count": 94,
     "metadata": {},
     "output_type": "execute_result"
    }
   ],
   "source": [
    "# Importando a bib que conecta com o Banco\n",
    "import pyodbc\n",
    "pyodbc.version"
   ]
  },
  {
   "cell_type": "code",
   "execution_count": 202,
   "id": "b1c9e050",
   "metadata": {},
   "outputs": [
    {
     "data": {
      "text/html": [
       "<div>\n",
       "<style scoped>\n",
       "    .dataframe tbody tr th:only-of-type {\n",
       "        vertical-align: middle;\n",
       "    }\n",
       "\n",
       "    .dataframe tbody tr th {\n",
       "        vertical-align: top;\n",
       "    }\n",
       "\n",
       "    .dataframe thead th {\n",
       "        text-align: right;\n",
       "    }\n",
       "</style>\n",
       "<table border=\"1\" class=\"dataframe\">\n",
       "  <thead>\n",
       "    <tr style=\"text-align: right;\">\n",
       "      <th></th>\n",
       "      <th>DataReuniao</th>\n",
       "      <th>DataDeliberacao</th>\n",
       "      <th>Situacao</th>\n",
       "      <th>Assunto</th>\n",
       "      <th>Autor</th>\n",
       "      <th>Proposicao</th>\n",
       "      <th>Ano</th>\n",
       "      <th>Texto</th>\n",
       "    </tr>\n",
       "  </thead>\n",
       "  <tbody>\n",
       "  </tbody>\n",
       "</table>\n",
       "</div>"
      ],
      "text/plain": [
       "Empty DataFrame\n",
       "Columns: [DataReuniao, DataDeliberacao, Situacao, Assunto, Autor, Proposicao, Ano, Texto]\n",
       "Index: []"
      ]
     },
     "execution_count": 202,
     "metadata": {},
     "output_type": "execute_result"
    }
   ],
   "source": [
    "'''\n",
    "# com senha\n",
    "conn = pyodbc.connect('Trusted_Connection=yes',\n",
    "                      driver = '{ODBC Driver 17 for SQL Server}',\n",
    "                      server = 'localhost',\n",
    "                      database = 'Indaial',\n",
    "                      UID = 'sa',\n",
    "                      PWD = 'senha')\n",
    "'''\n",
    "# Com autenticacao Windows\n",
    "conn = pyodbc.connect('Trusted_Connection=yes',\n",
    "                      driver = '{ODBC Driver 17 for SQL Server}',\n",
    "                      server = 'localhost',\n",
    "                      database = 'Indaial')\n",
    "query = '''\n",
    "    Select \n",
    "    * \n",
    "    from Proposicoes\n",
    "'''\n",
    "\n",
    "sql_query = pd.read_sql_query(query,conn)\n",
    "sql_query"
   ]
  },
  {
   "cell_type": "code",
   "execution_count": 203,
   "id": "ee72b039",
   "metadata": {},
   "outputs": [
    {
     "data": {
      "text/html": [
       "<div>\n",
       "<style scoped>\n",
       "    .dataframe tbody tr th:only-of-type {\n",
       "        vertical-align: middle;\n",
       "    }\n",
       "\n",
       "    .dataframe tbody tr th {\n",
       "        vertical-align: top;\n",
       "    }\n",
       "\n",
       "    .dataframe thead th {\n",
       "        text-align: right;\n",
       "    }\n",
       "</style>\n",
       "<table border=\"1\" class=\"dataframe\">\n",
       "  <thead>\n",
       "    <tr style=\"text-align: right;\">\n",
       "      <th></th>\n",
       "      <th>Reunião</th>\n",
       "      <th>Deliberação</th>\n",
       "      <th>Situação</th>\n",
       "      <th>Assunto</th>\n",
       "      <th>Autor</th>\n",
       "      <th>Proposicao</th>\n",
       "      <th>Ano</th>\n",
       "      <th>Texto</th>\n",
       "    </tr>\n",
       "  </thead>\n",
       "  <tbody>\n",
       "  </tbody>\n",
       "</table>\n",
       "</div>"
      ],
      "text/plain": [
       "Empty DataFrame\n",
       "Columns: [Reunião, Deliberação, Situação, Assunto, Autor, Proposicao, Ano, Texto]\n",
       "Index: []"
      ]
     },
     "execution_count": 203,
     "metadata": {},
     "output_type": "execute_result"
    }
   ],
   "source": [
    "# Crinado uma base df com as colunas\n",
    "base = pd.DataFrame(columns=['Reunião','Deliberação','Situação','Assunto','Autor','Proposicao','Ano','Texto'])\n",
    "base"
   ]
  },
  {
   "cell_type": "code",
   "execution_count": 204,
   "id": "c523c2a4",
   "metadata": {},
   "outputs": [
    {
     "data": {
      "text/html": [
       "<div>\n",
       "<style scoped>\n",
       "    .dataframe tbody tr th:only-of-type {\n",
       "        vertical-align: middle;\n",
       "    }\n",
       "\n",
       "    .dataframe tbody tr th {\n",
       "        vertical-align: top;\n",
       "    }\n",
       "\n",
       "    .dataframe thead th {\n",
       "        text-align: right;\n",
       "    }\n",
       "</style>\n",
       "<table border=\"1\" class=\"dataframe\">\n",
       "  <thead>\n",
       "    <tr style=\"text-align: right;\">\n",
       "      <th></th>\n",
       "      <th>Reunião</th>\n",
       "      <th>Deliberação</th>\n",
       "      <th>Situação</th>\n",
       "      <th>Assunto</th>\n",
       "      <th>Autor</th>\n",
       "      <th>Proposicao</th>\n",
       "      <th>Ano</th>\n",
       "      <th>Texto</th>\n",
       "    </tr>\n",
       "  </thead>\n",
       "  <tbody>\n",
       "    <tr>\n",
       "      <th>0</th>\n",
       "      <td>20210408</td>\n",
       "      <td>20210408</td>\n",
       "      <td>Proposição Aprovada</td>\n",
       "      <td>Limpeza, Macadamização, Patrolamento, Retifica...</td>\n",
       "      <td>Vereador Flávio Augusto Ferri Molinari.</td>\n",
       "      <td>500</td>\n",
       "      <td>2021</td>\n",
       "      <td>O vereador que está subscreve, no uso das atri...</td>\n",
       "    </tr>\n",
       "    <tr>\n",
       "      <th>1</th>\n",
       "      <td>20210408</td>\n",
       "      <td>20210408</td>\n",
       "      <td>Proposição Aprovada</td>\n",
       "      <td>Pontes, Bueiros, boca de lobo</td>\n",
       "      <td>Vereador Flávio Augusto Ferri Molinari.</td>\n",
       "      <td>501</td>\n",
       "      <td>2021</td>\n",
       "      <td>O vereador que está subscreve, no uso das atri...</td>\n",
       "    </tr>\n",
       "    <tr>\n",
       "      <th>2</th>\n",
       "      <td>20210408</td>\n",
       "      <td>20210408</td>\n",
       "      <td>Proposição Aprovada</td>\n",
       "      <td>Manutenção de via pública</td>\n",
       "      <td>Vereador Fernanda dos Santos.</td>\n",
       "      <td>502</td>\n",
       "      <td>2021</td>\n",
       "      <td>A vereadora que esta subscreve, no uso das atr...</td>\n",
       "    </tr>\n",
       "    <tr>\n",
       "      <th>3</th>\n",
       "      <td>20210408</td>\n",
       "      <td>20210408</td>\n",
       "      <td>Proposição Aprovada</td>\n",
       "      <td>Manutenção de via pública</td>\n",
       "      <td>Vereador Fernanda dos Santos.</td>\n",
       "      <td>503</td>\n",
       "      <td>2021</td>\n",
       "      <td>A vereadora que esta subscreve, no uso das atr...</td>\n",
       "    </tr>\n",
       "    <tr>\n",
       "      <th>4</th>\n",
       "      <td>20210408</td>\n",
       "      <td>20210408</td>\n",
       "      <td>Proposição Aprovada</td>\n",
       "      <td>Trânsito</td>\n",
       "      <td>Vereador Márcio Moisés Selhorst.</td>\n",
       "      <td>504</td>\n",
       "      <td>2021</td>\n",
       "      <td>O vereador que esta subscreve, no uso das atri...</td>\n",
       "    </tr>\n",
       "  </tbody>\n",
       "</table>\n",
       "</div>"
      ],
      "text/plain": [
       "    Reunião Deliberação             Situação  \\\n",
       "0  20210408    20210408  Proposição Aprovada   \n",
       "1  20210408    20210408  Proposição Aprovada   \n",
       "2  20210408    20210408  Proposição Aprovada   \n",
       "3  20210408    20210408  Proposição Aprovada   \n",
       "4  20210408    20210408  Proposição Aprovada   \n",
       "\n",
       "                                             Assunto  \\\n",
       "0  Limpeza, Macadamização, Patrolamento, Retifica...   \n",
       "1                      Pontes, Bueiros, boca de lobo   \n",
       "2                          Manutenção de via pública   \n",
       "3                          Manutenção de via pública   \n",
       "4                                           Trânsito   \n",
       "\n",
       "                                     Autor  Proposicao   Ano  \\\n",
       "0  Vereador Flávio Augusto Ferri Molinari.         500  2021   \n",
       "1  Vereador Flávio Augusto Ferri Molinari.         501  2021   \n",
       "2            Vereador Fernanda dos Santos.         502  2021   \n",
       "3            Vereador Fernanda dos Santos.         503  2021   \n",
       "4         Vereador Márcio Moisés Selhorst.         504  2021   \n",
       "\n",
       "                                               Texto  \n",
       "0  O vereador que está subscreve, no uso das atri...  \n",
       "1  O vereador que está subscreve, no uso das atri...  \n",
       "2  A vereadora que esta subscreve, no uso das atr...  \n",
       "3  A vereadora que esta subscreve, no uso das atr...  \n",
       "4  O vereador que esta subscreve, no uso das atri...  "
      ]
     },
     "execution_count": 204,
     "metadata": {},
     "output_type": "execute_result"
    }
   ],
   "source": [
    "teste"
   ]
  },
  {
   "cell_type": "code",
   "execution_count": 205,
   "id": "d683edba",
   "metadata": {},
   "outputs": [],
   "source": [
    "# Colocando tudo em uma unica BLOCO\n",
    "base = pd.DataFrame(columns=['Reunião','Deliberação','Situação','Assunto','Autor','Proposicao','Ano','Texto'])\n",
    "teste = base.append(teste).fillna('')\n",
    "\n",
    "conn = pyodbc.connect('Trusted_Connection=yes',\n",
    "                      driver = '{ODBC Driver 17 for SQL Server}',\n",
    "                      server = 'localhost',\n",
    "                      database = 'Indaial')\n",
    "\n",
    "cursor = conn.cursor()\n",
    "\n",
    "for index, row in teste.iterrows():\n",
    "    \n",
    "    cursor.execute('''\n",
    "    \n",
    "        INSERT INTO Proposicoes (\n",
    "            DataReuniao,\n",
    "            DataDeliberacao,\n",
    "            Situacao,\n",
    "            Assunto,\n",
    "            Autor,\n",
    "            Proposicao,\n",
    "            Ano,\n",
    "            Texto\n",
    "                      \n",
    "        )\n",
    "        Values(?,?,?,?,?,?,?,?)''', # mesma qtde de variaveis\n",
    "        \n",
    "        row['Reunião'],\n",
    "        row['Deliberação'],\n",
    "        row['Situação'],\n",
    "        row['Assunto'],\n",
    "        row['Autor'],\n",
    "        row['Proposicao'],\n",
    "        row['Ano'],\n",
    "        row['Texto']\n",
    "    )\n",
    "\n",
    "conn.commit()\n",
    "cursor.close()"
   ]
  },
  {
   "cell_type": "code",
   "execution_count": 206,
   "id": "2c1507db",
   "metadata": {},
   "outputs": [],
   "source": [
    "# Criando uma function para retorno da query\n",
    "def SQLSelect(query):\n",
    "    conn = pyodbc.connect('Trusted_Connection=yes',\n",
    "                      driver = '{ODBC Driver 17 for SQL Server}',\n",
    "                      server = 'localhost',\n",
    "                      database = 'Indaial')\n",
    "    out = pd.read_sql_query(query,conn)\n",
    "    return out"
   ]
  },
  {
   "cell_type": "code",
   "execution_count": 258,
   "id": "89cec3c1",
   "metadata": {},
   "outputs": [
    {
     "data": {
      "text/html": [
       "<div>\n",
       "<style scoped>\n",
       "    .dataframe tbody tr th:only-of-type {\n",
       "        vertical-align: middle;\n",
       "    }\n",
       "\n",
       "    .dataframe tbody tr th {\n",
       "        vertical-align: top;\n",
       "    }\n",
       "\n",
       "    .dataframe thead th {\n",
       "        text-align: right;\n",
       "    }\n",
       "</style>\n",
       "<table border=\"1\" class=\"dataframe\">\n",
       "  <thead>\n",
       "    <tr style=\"text-align: right;\">\n",
       "      <th></th>\n",
       "      <th>DataReuniao</th>\n",
       "      <th>DataDeliberacao</th>\n",
       "      <th>Situacao</th>\n",
       "      <th>Assunto</th>\n",
       "      <th>Autor</th>\n",
       "      <th>Proposicao</th>\n",
       "      <th>Ano</th>\n",
       "      <th>Texto</th>\n",
       "    </tr>\n",
       "  </thead>\n",
       "  <tbody>\n",
       "  </tbody>\n",
       "</table>\n",
       "</div>"
      ],
      "text/plain": [
       "Empty DataFrame\n",
       "Columns: [DataReuniao, DataDeliberacao, Situacao, Assunto, Autor, Proposicao, Ano, Texto]\n",
       "Index: []"
      ]
     },
     "execution_count": 258,
     "metadata": {},
     "output_type": "execute_result"
    }
   ],
   "source": [
    "query_all = '''\n",
    "    Select \n",
    "    * \n",
    "    from Proposicoes\n",
    "    order by Ano, Ano desc, Proposicao desc\n",
    "'''\n",
    "query_max = '''\n",
    "    SELECT\n",
    "        maior = max(Proposicao)\n",
    "    from Proposicoes\n",
    "'''\n",
    "\n",
    "SQLSelect(query_all)\n"
   ]
  },
  {
   "cell_type": "code",
   "execution_count": 208,
   "id": "f5d18fc8",
   "metadata": {},
   "outputs": [],
   "source": [
    "# Criando uma function para ISERT da query\n",
    "def SQLInsertProposicoes(TabelaProposicoes):\n",
    "    base = pd.DataFrame(columns=['Reunião','Deliberação','Situação','Assunto','Autor','Proposicao','Ano','Texto'])\n",
    "    TabelaProposicoes = base.append(TabelaProposicoes).fillna('')\n",
    "\n",
    "    conn = pyodbc.connect('Trusted_Connection=yes',\n",
    "                          driver = '{ODBC Driver 17 for SQL Server}',\n",
    "                          server = 'localhost',\n",
    "                          database = 'Indaial')\n",
    "\n",
    "    cursor = conn.cursor()\n",
    "\n",
    "    for index, row in TabelaProposicoes.iterrows():\n",
    "\n",
    "        cursor.execute('''\n",
    "\n",
    "            INSERT INTO Proposicoes (\n",
    "                DataReuniao,\n",
    "                DataDeliberacao,\n",
    "                Situacao,\n",
    "                Assunto,\n",
    "                Autor,\n",
    "                Proposicao,\n",
    "                Ano,\n",
    "                Texto\n",
    "\n",
    "            )\n",
    "            Values(?,?,?,?,?,?,?,?)''', # mesma qtde de variaveis\n",
    "\n",
    "            row['Reunião'],\n",
    "            row['Deliberação'],\n",
    "            row['Situação'],\n",
    "            row['Assunto'],\n",
    "            row['Autor'],\n",
    "            row['Proposicao'],\n",
    "            row['Ano'],\n",
    "            row['Texto']\n",
    "        )\n",
    "\n",
    "    conn.commit()\n",
    "    cursor.close()\n",
    "    "
   ]
  },
  {
   "cell_type": "code",
   "execution_count": 209,
   "id": "932701d6",
   "metadata": {},
   "outputs": [],
   "source": [
    "SQLInsertProposicoes(teste)"
   ]
  },
  {
   "cell_type": "code",
   "execution_count": 158,
   "id": "6ce7c8ee",
   "metadata": {},
   "outputs": [],
   "source": [
    "# Function to truncate a table\n",
    "def SQLTruncate(NomeTabela):\n",
    "    conn = pyodbc.connect('Trusted_Connection=yes',\n",
    "                          driver = '{ODBC Driver 17 for SQL Server}',\n",
    "                          server = 'localhost',\n",
    "                          database = 'Indaial')\n",
    "\n",
    "    cursor = conn.cursor()\n",
    "\n",
    "    cursor.execute(f'''\n",
    "    \n",
    "                   TRUNCATE TABLE {NomeTabela}\n",
    "                     \n",
    "                   ''')\n",
    "    conn.commit()\n",
    "    cursor.close()"
   ]
  },
  {
   "cell_type": "code",
   "execution_count": 210,
   "id": "7836b96f",
   "metadata": {},
   "outputs": [],
   "source": [
    "SQLTruncate('Proposicoes')"
   ]
  },
  {
   "cell_type": "code",
   "execution_count": 211,
   "id": "a4802eeb",
   "metadata": {},
   "outputs": [
    {
     "data": {
      "text/html": [
       "<div>\n",
       "<style scoped>\n",
       "    .dataframe tbody tr th:only-of-type {\n",
       "        vertical-align: middle;\n",
       "    }\n",
       "\n",
       "    .dataframe tbody tr th {\n",
       "        vertical-align: top;\n",
       "    }\n",
       "\n",
       "    .dataframe thead th {\n",
       "        text-align: right;\n",
       "    }\n",
       "</style>\n",
       "<table border=\"1\" class=\"dataframe\">\n",
       "  <thead>\n",
       "    <tr style=\"text-align: right;\">\n",
       "      <th></th>\n",
       "      <th>DataReuniao</th>\n",
       "      <th>DataDeliberacao</th>\n",
       "      <th>Situacao</th>\n",
       "      <th>Assunto</th>\n",
       "      <th>Autor</th>\n",
       "      <th>Proposicao</th>\n",
       "      <th>Ano</th>\n",
       "      <th>Texto</th>\n",
       "    </tr>\n",
       "  </thead>\n",
       "  <tbody>\n",
       "  </tbody>\n",
       "</table>\n",
       "</div>"
      ],
      "text/plain": [
       "Empty DataFrame\n",
       "Columns: [DataReuniao, DataDeliberacao, Situacao, Assunto, Autor, Proposicao, Ano, Texto]\n",
       "Index: []"
      ]
     },
     "execution_count": 211,
     "metadata": {},
     "output_type": "execute_result"
    }
   ],
   "source": [
    "SQLSelect(query_all)"
   ]
  },
  {
   "cell_type": "code",
   "execution_count": 212,
   "id": "a0f24163",
   "metadata": {},
   "outputs": [
    {
     "data": {
      "text/html": [
       "<div>\n",
       "<style scoped>\n",
       "    .dataframe tbody tr th:only-of-type {\n",
       "        vertical-align: middle;\n",
       "    }\n",
       "\n",
       "    .dataframe tbody tr th {\n",
       "        vertical-align: top;\n",
       "    }\n",
       "\n",
       "    .dataframe thead th {\n",
       "        text-align: right;\n",
       "    }\n",
       "</style>\n",
       "<table border=\"1\" class=\"dataframe\">\n",
       "  <thead>\n",
       "    <tr style=\"text-align: right;\">\n",
       "      <th></th>\n",
       "      <th>maior</th>\n",
       "    </tr>\n",
       "  </thead>\n",
       "  <tbody>\n",
       "    <tr>\n",
       "      <th>0</th>\n",
       "      <td>None</td>\n",
       "    </tr>\n",
       "  </tbody>\n",
       "</table>\n",
       "</div>"
      ],
      "text/plain": [
       "  maior\n",
       "0  None"
      ]
     },
     "execution_count": 212,
     "metadata": {},
     "output_type": "execute_result"
    }
   ],
   "source": [
    "SQLSelect(query_max)"
   ]
  },
  {
   "cell_type": "markdown",
   "id": "427039ff",
   "metadata": {},
   "source": [
    "## 3. Alimentacao Incremental"
   ]
  },
  {
   "cell_type": "markdown",
   "id": "d2f3fe37",
   "metadata": {},
   "source": [
    "### 3.1 Modificando a funcao de Busca"
   ]
  },
  {
   "cell_type": "code",
   "execution_count": 215,
   "id": "1387f4ca",
   "metadata": {},
   "outputs": [
    {
     "data": {
      "text/html": [
       "<div>\n",
       "<style scoped>\n",
       "    .dataframe tbody tr th:only-of-type {\n",
       "        vertical-align: middle;\n",
       "    }\n",
       "\n",
       "    .dataframe tbody tr th {\n",
       "        vertical-align: top;\n",
       "    }\n",
       "\n",
       "    .dataframe thead th {\n",
       "        text-align: right;\n",
       "    }\n",
       "</style>\n",
       "<table border=\"1\" class=\"dataframe\">\n",
       "  <thead>\n",
       "    <tr style=\"text-align: right;\">\n",
       "      <th></th>\n",
       "      <th>DataReuniao</th>\n",
       "      <th>DataDeliberacao</th>\n",
       "      <th>Situacao</th>\n",
       "      <th>Assunto</th>\n",
       "      <th>Autor</th>\n",
       "      <th>Proposicao</th>\n",
       "      <th>Ano</th>\n",
       "      <th>Texto</th>\n",
       "    </tr>\n",
       "  </thead>\n",
       "  <tbody>\n",
       "    <tr>\n",
       "      <th>0</th>\n",
       "      <td>2021-02-11</td>\n",
       "      <td>2021-02-11</td>\n",
       "      <td>Proposição Aprovada</td>\n",
       "      <td>Manutenção de via pública</td>\n",
       "      <td>Vereador Valentim Blasius.</td>\n",
       "      <td>200</td>\n",
       "      <td>2021</td>\n",
       "      <td>O Vereador abaixo firmado requer, após ouvido ...</td>\n",
       "    </tr>\n",
       "  </tbody>\n",
       "</table>\n",
       "</div>"
      ],
      "text/plain": [
       "  DataReuniao DataDeliberacao             Situacao                    Assunto  \\\n",
       "0  2021-02-11      2021-02-11  Proposição Aprovada  Manutenção de via pública   \n",
       "\n",
       "                        Autor  Proposicao   Ano  \\\n",
       "0  Vereador Valentim Blasius.         200  2021   \n",
       "\n",
       "                                               Texto  \n",
       "0  O Vereador abaixo firmado requer, após ouvido ...  "
      ]
     },
     "execution_count": 215,
     "metadata": {},
     "output_type": "execute_result"
    }
   ],
   "source": [
    "# Limpando os dados so para demonstracao\n",
    "SQLTruncate('Proposicoes')\n",
    "\n",
    "# ============ INICIO ===================\n",
    "proposicao = 200\n",
    "ano = 2021\n",
    "dados = Conteudo(proposicao,ano)\n",
    "tabela = pd.DataFrame([dados])\n",
    "SQLInsertProposicoes(tabela)\n",
    "# ============  FIM  ===================\n",
    "\n",
    "# Vizualizando os dados\n",
    "SQLSelect(f'SELECT * FROM Proposicoes where Proposicao = {proposicao} and Ano = {ano}')"
   ]
  },
  {
   "cell_type": "code",
   "execution_count": 214,
   "id": "fd9f98f8",
   "metadata": {},
   "outputs": [
    {
     "data": {
      "text/html": [
       "<div>\n",
       "<style scoped>\n",
       "    .dataframe tbody tr th:only-of-type {\n",
       "        vertical-align: middle;\n",
       "    }\n",
       "\n",
       "    .dataframe tbody tr th {\n",
       "        vertical-align: top;\n",
       "    }\n",
       "\n",
       "    .dataframe thead th {\n",
       "        text-align: right;\n",
       "    }\n",
       "</style>\n",
       "<table border=\"1\" class=\"dataframe\">\n",
       "  <thead>\n",
       "    <tr style=\"text-align: right;\">\n",
       "      <th></th>\n",
       "      <th>DataReuniao</th>\n",
       "      <th>DataDeliberacao</th>\n",
       "      <th>Situacao</th>\n",
       "      <th>Assunto</th>\n",
       "      <th>Autor</th>\n",
       "      <th>Proposicao</th>\n",
       "      <th>Ano</th>\n",
       "      <th>Texto</th>\n",
       "    </tr>\n",
       "  </thead>\n",
       "  <tbody>\n",
       "    <tr>\n",
       "      <th>0</th>\n",
       "      <td>2021-02-11</td>\n",
       "      <td>2021-02-11</td>\n",
       "      <td>Proposição Aprovada</td>\n",
       "      <td>Manutenção de via pública</td>\n",
       "      <td>Vereador Valentim Blasius.</td>\n",
       "      <td>200</td>\n",
       "      <td>2021</td>\n",
       "      <td>O Vereador abaixo firmado requer, após ouvido ...</td>\n",
       "    </tr>\n",
       "  </tbody>\n",
       "</table>\n",
       "</div>"
      ],
      "text/plain": [
       "  DataReuniao DataDeliberacao             Situacao                    Assunto  \\\n",
       "0  2021-02-11      2021-02-11  Proposição Aprovada  Manutenção de via pública   \n",
       "\n",
       "                        Autor  Proposicao   Ano  \\\n",
       "0  Vereador Valentim Blasius.         200  2021   \n",
       "\n",
       "                                               Texto  \n",
       "0  O Vereador abaixo firmado requer, após ouvido ...  "
      ]
     },
     "execution_count": 214,
     "metadata": {},
     "output_type": "execute_result"
    }
   ],
   "source": [
    "SQLSelect(query_all)"
   ]
  },
  {
   "cell_type": "code",
   "execution_count": 223,
   "id": "e117eef8",
   "metadata": {},
   "outputs": [
    {
     "data": {
      "text/plain": [
       "215"
      ]
     },
     "execution_count": 223,
     "metadata": {},
     "output_type": "execute_result"
    }
   ],
   "source": [
    "ano = 2021\n",
    "dados = SQLSelect(f'select Proposicao = max(proposicao) from Proposicoes where Ano = {ano}')\n",
    "dados['Proposicao'].loc[0]"
   ]
  },
  {
   "cell_type": "code",
   "execution_count": 234,
   "id": "af5218da",
   "metadata": {},
   "outputs": [
    {
     "ename": "TypeError",
     "evalue": "int() argument must be a string, a bytes-like object or a real number, not 'NoneType'",
     "output_type": "error",
     "traceback": [
      "\u001b[1;31m---------------------------------------------------------------------------\u001b[0m",
      "\u001b[1;31mTypeError\u001b[0m                                 Traceback (most recent call last)",
      "Cell \u001b[1;32mIn[234], line 5\u001b[0m\n\u001b[0;32m      2\u001b[0m ano \u001b[38;5;241m=\u001b[39m \u001b[38;5;241m2021\u001b[39m\n\u001b[0;32m      4\u001b[0m dados_ano \u001b[38;5;241m=\u001b[39m SQLSelect(\u001b[38;5;124mf\u001b[39m\u001b[38;5;124m'\u001b[39m\u001b[38;5;124mselect Proposicao = max(proposicao) from Proposicoes where Ano = \u001b[39m\u001b[38;5;132;01m{\u001b[39;00mano\u001b[38;5;132;01m}\u001b[39;00m\u001b[38;5;124m'\u001b[39m)\n\u001b[1;32m----> 5\u001b[0m proxima_proposicao \u001b[38;5;241m=\u001b[39m \u001b[38;5;28;43mint\u001b[39;49m\u001b[43m(\u001b[49m\u001b[43mdados_ano\u001b[49m\u001b[43m[\u001b[49m\u001b[38;5;124;43m'\u001b[39;49m\u001b[38;5;124;43mProposicao\u001b[39;49m\u001b[38;5;124;43m'\u001b[39;49m\u001b[43m]\u001b[49m\u001b[38;5;241;43m.\u001b[39;49m\u001b[43mloc\u001b[49m\u001b[43m[\u001b[49m\u001b[38;5;241;43m0\u001b[39;49m\u001b[43m]\u001b[49m\u001b[43m)\u001b[49m\u001b[38;5;241m+\u001b[39m\u001b[38;5;241m1\u001b[39m\n\u001b[0;32m      7\u001b[0m dados \u001b[38;5;241m=\u001b[39m Conteudo(proxima_proposicao,ano)\n\u001b[0;32m      8\u001b[0m tabela \u001b[38;5;241m=\u001b[39m pd\u001b[38;5;241m.\u001b[39mDataFrame([dados])\n",
      "\u001b[1;31mTypeError\u001b[0m: int() argument must be a string, a bytes-like object or a real number, not 'NoneType'"
     ]
    }
   ],
   "source": [
    "# ============ INICIO ===================\n",
    "ano = 2021\n",
    "\n",
    "dados_ano = SQLSelect(f'select Proposicao = max(proposicao) from Proposicoes where Ano = {ano}')\n",
    "proxima_proposicao = int(dados_ano['Proposicao'].loc[0])+1\n",
    "\n",
    "dados = Conteudo(proxima_proposicao,ano)\n",
    "tabela = pd.DataFrame([dados])\n",
    "SQLInsertProposicoes(tabela)\n",
    "SQLSelect(query_all)\n",
    "# ============  FIM  ==================="
   ]
  },
  {
   "cell_type": "code",
   "execution_count": 242,
   "id": "9c4a0e2d",
   "metadata": {},
   "outputs": [
    {
     "data": {
      "text/html": [
       "<div>\n",
       "<style scoped>\n",
       "    .dataframe tbody tr th:only-of-type {\n",
       "        vertical-align: middle;\n",
       "    }\n",
       "\n",
       "    .dataframe tbody tr th {\n",
       "        vertical-align: top;\n",
       "    }\n",
       "\n",
       "    .dataframe thead th {\n",
       "        text-align: right;\n",
       "    }\n",
       "</style>\n",
       "<table border=\"1\" class=\"dataframe\">\n",
       "  <thead>\n",
       "    <tr style=\"text-align: right;\">\n",
       "      <th></th>\n",
       "      <th>DataReuniao</th>\n",
       "      <th>DataDeliberacao</th>\n",
       "      <th>Situacao</th>\n",
       "      <th>Assunto</th>\n",
       "      <th>Autor</th>\n",
       "      <th>Proposicao</th>\n",
       "      <th>Ano</th>\n",
       "      <th>Texto</th>\n",
       "    </tr>\n",
       "  </thead>\n",
       "  <tbody>\n",
       "  </tbody>\n",
       "</table>\n",
       "</div>"
      ],
      "text/plain": [
       "Empty DataFrame\n",
       "Columns: [DataReuniao, DataDeliberacao, Situacao, Assunto, Autor, Proposicao, Ano, Texto]\n",
       "Index: []"
      ]
     },
     "execution_count": 242,
     "metadata": {},
     "output_type": "execute_result"
    }
   ],
   "source": [
    "# Limpando os dados so para demonstracao\n",
    "SQLTruncate('Proposicoes')\n",
    "SQLSelect(query_all)"
   ]
  },
  {
   "cell_type": "code",
   "execution_count": 237,
   "id": "c6e63d2d",
   "metadata": {},
   "outputs": [
    {
     "data": {
      "text/html": [
       "<div>\n",
       "<style scoped>\n",
       "    .dataframe tbody tr th:only-of-type {\n",
       "        vertical-align: middle;\n",
       "    }\n",
       "\n",
       "    .dataframe tbody tr th {\n",
       "        vertical-align: top;\n",
       "    }\n",
       "\n",
       "    .dataframe thead th {\n",
       "        text-align: right;\n",
       "    }\n",
       "</style>\n",
       "<table border=\"1\" class=\"dataframe\">\n",
       "  <thead>\n",
       "    <tr style=\"text-align: right;\">\n",
       "      <th></th>\n",
       "      <th>DataReuniao</th>\n",
       "      <th>DataDeliberacao</th>\n",
       "      <th>Situacao</th>\n",
       "      <th>Assunto</th>\n",
       "      <th>Autor</th>\n",
       "      <th>Proposicao</th>\n",
       "      <th>Ano</th>\n",
       "      <th>Texto</th>\n",
       "    </tr>\n",
       "  </thead>\n",
       "  <tbody>\n",
       "    <tr>\n",
       "      <th>0</th>\n",
       "      <td>2021-02-01</td>\n",
       "      <td>2021-02-01</td>\n",
       "      <td>Proposição Aprovada</td>\n",
       "      <td>Trânsito</td>\n",
       "      <td>Vereador Remir José de Faveri.</td>\n",
       "      <td>1</td>\n",
       "      <td>2021</td>\n",
       "      <td>O vereador que esta subscreve, no uso das atri...</td>\n",
       "    </tr>\n",
       "    <tr>\n",
       "      <th>1</th>\n",
       "      <td>2021-02-01</td>\n",
       "      <td>2021-02-01</td>\n",
       "      <td>Proposição Aprovada</td>\n",
       "      <td>Manutenção de via pública</td>\n",
       "      <td>Vereador Remir José de Faveri.</td>\n",
       "      <td>2</td>\n",
       "      <td>2021</td>\n",
       "      <td>O vereador abaixo firmado requer, após ouvido ...</td>\n",
       "    </tr>\n",
       "    <tr>\n",
       "      <th>2</th>\n",
       "      <td>2021-02-01</td>\n",
       "      <td>2021-02-01</td>\n",
       "      <td>Proposição Aprovada</td>\n",
       "      <td>Manutenção de via pública</td>\n",
       "      <td>Vereador Valentim Blasius.</td>\n",
       "      <td>3</td>\n",
       "      <td>2021</td>\n",
       "      <td>O vereador abaixo firmado requer, após ouvido ...</td>\n",
       "    </tr>\n",
       "  </tbody>\n",
       "</table>\n",
       "</div>"
      ],
      "text/plain": [
       "  DataReuniao DataDeliberacao             Situacao                    Assunto  \\\n",
       "0  2021-02-01      2021-02-01  Proposição Aprovada                   Trânsito   \n",
       "1  2021-02-01      2021-02-01  Proposição Aprovada  Manutenção de via pública   \n",
       "2  2021-02-01      2021-02-01  Proposição Aprovada  Manutenção de via pública   \n",
       "\n",
       "                            Autor  Proposicao   Ano  \\\n",
       "0  Vereador Remir José de Faveri.           1  2021   \n",
       "1  Vereador Remir José de Faveri.           2  2021   \n",
       "2      Vereador Valentim Blasius.           3  2021   \n",
       "\n",
       "                                               Texto  \n",
       "0  O vereador que esta subscreve, no uso das atri...  \n",
       "1  O vereador abaixo firmado requer, após ouvido ...  \n",
       "2  O vereador abaixo firmado requer, após ouvido ...  "
      ]
     },
     "execution_count": 237,
     "metadata": {},
     "output_type": "execute_result"
    }
   ],
   "source": [
    "# ============ INICIO ===================\n",
    "ano = 2021\n",
    "\n",
    "dados_ano = SQLSelect(f'select Proposicao = max(proposicao) from Proposicoes where Ano = {ano}')\n",
    "ultima_proposicao = dados_ano['Proposicao'].loc[0]\n",
    "\n",
    "if ultima_proposicao == None:\n",
    "    proxima_proposicao = 1\n",
    "else:\n",
    "    proxima_proposicao = int(ultima_proposicao)+1\n",
    "\n",
    "dados = Conteudo(proxima_proposicao,ano)\n",
    "tabela = pd.DataFrame([dados])\n",
    "SQLInsertProposicoes(tabela)\n",
    "SQLSelect(query_all)\n",
    "# ============  FIM  ==================="
   ]
  },
  {
   "cell_type": "code",
   "execution_count": 239,
   "id": "bea46b10",
   "metadata": {},
   "outputs": [],
   "source": [
    "def InsereProximaProposicao(ano):\n",
    "    dados_ano = SQLSelect(f'select Proposicao = max(proposicao) from Proposicoes where Ano = {ano}')\n",
    "    ultima_proposicao = dados_ano['Proposicao'].loc[0]\n",
    "\n",
    "    if ultima_proposicao == None:\n",
    "        proxima_proposicao = 1\n",
    "    else:\n",
    "        proxima_proposicao = int(ultima_proposicao)+1\n",
    "\n",
    "    dados = Conteudo(proxima_proposicao,ano)\n",
    "    tabela = pd.DataFrame([dados])\n",
    "    SQLInsertProposicoes(tabela)"
   ]
  },
  {
   "cell_type": "code",
   "execution_count": 243,
   "id": "6f8c0e10",
   "metadata": {},
   "outputs": [
    {
     "data": {
      "text/html": [
       "<div>\n",
       "<style scoped>\n",
       "    .dataframe tbody tr th:only-of-type {\n",
       "        vertical-align: middle;\n",
       "    }\n",
       "\n",
       "    .dataframe tbody tr th {\n",
       "        vertical-align: top;\n",
       "    }\n",
       "\n",
       "    .dataframe thead th {\n",
       "        text-align: right;\n",
       "    }\n",
       "</style>\n",
       "<table border=\"1\" class=\"dataframe\">\n",
       "  <thead>\n",
       "    <tr style=\"text-align: right;\">\n",
       "      <th></th>\n",
       "      <th>DataReuniao</th>\n",
       "      <th>DataDeliberacao</th>\n",
       "      <th>Situacao</th>\n",
       "      <th>Assunto</th>\n",
       "      <th>Autor</th>\n",
       "      <th>Proposicao</th>\n",
       "      <th>Ano</th>\n",
       "      <th>Texto</th>\n",
       "    </tr>\n",
       "  </thead>\n",
       "  <tbody>\n",
       "    <tr>\n",
       "      <th>0</th>\n",
       "      <td>2020-02-03</td>\n",
       "      <td>2020-02-03</td>\n",
       "      <td>Proposição Aprovada</td>\n",
       "      <td>Limpeza, Macadamização, Patrolamento, Retifica...</td>\n",
       "      <td>Vereador Osvaldo Metzner.</td>\n",
       "      <td>1</td>\n",
       "      <td>2020</td>\n",
       "      <td>O vereador que esta subscreve, no uso das atri...</td>\n",
       "    </tr>\n",
       "  </tbody>\n",
       "</table>\n",
       "</div>"
      ],
      "text/plain": [
       "  DataReuniao DataDeliberacao             Situacao  \\\n",
       "0  2020-02-03      2020-02-03  Proposição Aprovada   \n",
       "\n",
       "                                             Assunto  \\\n",
       "0  Limpeza, Macadamização, Patrolamento, Retifica...   \n",
       "\n",
       "                       Autor  Proposicao   Ano  \\\n",
       "0  Vereador Osvaldo Metzner.           1  2020   \n",
       "\n",
       "                                               Texto  \n",
       "0  O vereador que esta subscreve, no uso das atri...  "
      ]
     },
     "execution_count": 243,
     "metadata": {},
     "output_type": "execute_result"
    }
   ],
   "source": [
    "InsereProximaProposicao(2020)\n",
    "SQLSelect(query_all)"
   ]
  },
  {
   "cell_type": "code",
   "execution_count": 248,
   "id": "a8282a24",
   "metadata": {},
   "outputs": [],
   "source": [
    "def BuscaGravaDadosAno(ano, quantidade = 99999, erros_admissiveis = 2, segundos_espera = 0.5):\n",
    "    \n",
    "    #erros\n",
    "    erros = 0\n",
    "    \n",
    "    #variaveis para o loop\n",
    "    i = 1\n",
    "    lista = []\n",
    "    \n",
    "    while erros <= erros_admissiveis:\n",
    "        \n",
    "        try:\n",
    "            InsereProximaProposicao(ano)\n",
    "        except:\n",
    "            erros += 1\n",
    "            pass\n",
    "        \n",
    "        time.sleep(segundos_espera)\n",
    "        \n",
    "        i += 1"
   ]
  },
  {
   "cell_type": "code",
   "execution_count": null,
   "id": "bf455daf",
   "metadata": {},
   "outputs": [],
   "source": [
    "# Limpando os dados so para demonstracao\n",
    "SQLTruncate('Proposicoes')\n",
    "SQLSelect(query_all)"
   ]
  },
  {
   "cell_type": "code",
   "execution_count": 249,
   "id": "523f1748",
   "metadata": {},
   "outputs": [],
   "source": [
    "ano=1996\n",
    "BuscaGravaDadosAno(ano)"
   ]
  },
  {
   "cell_type": "code",
   "execution_count": 252,
   "id": "5ff39912",
   "metadata": {},
   "outputs": [
    {
     "data": {
      "text/html": [
       "<div>\n",
       "<style scoped>\n",
       "    .dataframe tbody tr th:only-of-type {\n",
       "        vertical-align: middle;\n",
       "    }\n",
       "\n",
       "    .dataframe tbody tr th {\n",
       "        vertical-align: top;\n",
       "    }\n",
       "\n",
       "    .dataframe thead th {\n",
       "        text-align: right;\n",
       "    }\n",
       "</style>\n",
       "<table border=\"1\" class=\"dataframe\">\n",
       "  <thead>\n",
       "    <tr style=\"text-align: right;\">\n",
       "      <th></th>\n",
       "      <th>DataReuniao</th>\n",
       "      <th>DataDeliberacao</th>\n",
       "      <th>Situacao</th>\n",
       "      <th>Assunto</th>\n",
       "      <th>Autor</th>\n",
       "      <th>Proposicao</th>\n",
       "      <th>Ano</th>\n",
       "      <th>Texto</th>\n",
       "    </tr>\n",
       "  </thead>\n",
       "  <tbody>\n",
       "  </tbody>\n",
       "</table>\n",
       "</div>"
      ],
      "text/plain": [
       "Empty DataFrame\n",
       "Columns: [DataReuniao, DataDeliberacao, Situacao, Assunto, Autor, Proposicao, Ano, Texto]\n",
       "Index: []"
      ]
     },
     "execution_count": 252,
     "metadata": {},
     "output_type": "execute_result"
    }
   ],
   "source": [
    "# Limpando os dados so para demonstracao\n",
    "SQLTruncate('Proposicoes')\n",
    "SQLSelect(query_all)"
   ]
  },
  {
   "cell_type": "code",
   "execution_count": 259,
   "id": "93f068e9",
   "metadata": {},
   "outputs": [
    {
     "name": "stdout",
     "output_type": "stream",
     "text": [
      "Iniciando gravacao dos dados do ano:  1996\n",
      "Iniciando gravacao dos dados do ano:  1997\n",
      "Insercao finalizada\n"
     ]
    }
   ],
   "source": [
    "ano_inicial = 1996\n",
    "ano_final = 1997\n",
    "\n",
    "for i in list(range(ano_inicial, ano_final+1)):\n",
    "    print('Iniciando gravacao dos dados do ano: ',i)\n",
    "    try:\n",
    "        BuscaGravaDadosAno(i, segundos_espera=0.3)\n",
    "    except:\n",
    "        pass\n",
    "print(\"Insercao finalizada\")"
   ]
  },
  {
   "cell_type": "code",
   "execution_count": 261,
   "id": "6fec2939",
   "metadata": {},
   "outputs": [
    {
     "data": {
      "text/html": [
       "<div>\n",
       "<style scoped>\n",
       "    .dataframe tbody tr th:only-of-type {\n",
       "        vertical-align: middle;\n",
       "    }\n",
       "\n",
       "    .dataframe tbody tr th {\n",
       "        vertical-align: top;\n",
       "    }\n",
       "\n",
       "    .dataframe thead th {\n",
       "        text-align: right;\n",
       "    }\n",
       "</style>\n",
       "<table border=\"1\" class=\"dataframe\">\n",
       "  <thead>\n",
       "    <tr style=\"text-align: right;\">\n",
       "      <th></th>\n",
       "      <th>DataReuniao</th>\n",
       "      <th>DataDeliberacao</th>\n",
       "      <th>Situacao</th>\n",
       "      <th>Assunto</th>\n",
       "      <th>Autor</th>\n",
       "      <th>Proposicao</th>\n",
       "      <th>Ano</th>\n",
       "      <th>Texto</th>\n",
       "    </tr>\n",
       "  </thead>\n",
       "  <tbody>\n",
       "    <tr>\n",
       "      <th>0</th>\n",
       "      <td>1997-02-27</td>\n",
       "      <td>1997-02-27</td>\n",
       "      <td>Proposição Aprovada</td>\n",
       "      <td>Limpeza, Macadamização, Patrolamento, Retifica...</td>\n",
       "      <td>Vereador Alinor Lauth.</td>\n",
       "      <td>232</td>\n",
       "      <td>1997</td>\n",
       "      <td>Limpeza, patrolamento e macadamização da rua T...</td>\n",
       "    </tr>\n",
       "    <tr>\n",
       "      <th>1</th>\n",
       "      <td>1997-02-27</td>\n",
       "      <td>1997-02-27</td>\n",
       "      <td>Proposição Aprovada</td>\n",
       "      <td>Diversos</td>\n",
       "      <td>Vereador Sergio Almir dos Santos.</td>\n",
       "      <td>231</td>\n",
       "      <td>1997</td>\n",
       "      <td>Reformar as dependências da Associação de Mora...</td>\n",
       "    </tr>\n",
       "    <tr>\n",
       "      <th>2</th>\n",
       "      <td>1997-02-27</td>\n",
       "      <td>1997-02-27</td>\n",
       "      <td>Proposição Aprovada</td>\n",
       "      <td>Irrigação</td>\n",
       "      <td>Vereador Sergio Almir dos Santos.</td>\n",
       "      <td>230</td>\n",
       "      <td>1997</td>\n",
       "      <td>Irrigar a rua 16 de Julho, bairro Carijós.    ...</td>\n",
       "    </tr>\n",
       "    <tr>\n",
       "      <th>3</th>\n",
       "      <td>1997-02-27</td>\n",
       "      <td>1997-02-27</td>\n",
       "      <td>Proposição Aprovada</td>\n",
       "      <td>Irrigação</td>\n",
       "      <td>Vereador Sergio Almir dos Santos.</td>\n",
       "      <td>229</td>\n",
       "      <td>1997</td>\n",
       "      <td>Irrigar a rua 25 de Julho, bairro Carijós.    ...</td>\n",
       "    </tr>\n",
       "    <tr>\n",
       "      <th>4</th>\n",
       "      <td>1997-02-27</td>\n",
       "      <td>1997-02-27</td>\n",
       "      <td>Proposição Aprovada</td>\n",
       "      <td>Irrigação</td>\n",
       "      <td>Vereador Sergio Almir dos Santos.</td>\n",
       "      <td>228</td>\n",
       "      <td>1997</td>\n",
       "      <td>Irrigar a rua 11 de Junho, bairro Carijós.    ...</td>\n",
       "    </tr>\n",
       "    <tr>\n",
       "      <th>...</th>\n",
       "      <td>...</td>\n",
       "      <td>...</td>\n",
       "      <td>...</td>\n",
       "      <td>...</td>\n",
       "      <td>...</td>\n",
       "      <td>...</td>\n",
       "      <td>...</td>\n",
       "      <td>...</td>\n",
       "    </tr>\n",
       "    <tr>\n",
       "      <th>251</th>\n",
       "      <td>1996-02-22</td>\n",
       "      <td>1996-02-22</td>\n",
       "      <td>Proposição Aprovada</td>\n",
       "      <td>Rede de Água / Esgoto / Pluvial</td>\n",
       "      <td>Vereador Henrique Fritz.</td>\n",
       "      <td>5</td>\n",
       "      <td>1996</td>\n",
       "      <td>Prolongamento de rede d'água na Rua Lorenz até...</td>\n",
       "    </tr>\n",
       "    <tr>\n",
       "      <th>252</th>\n",
       "      <td>1996-02-22</td>\n",
       "      <td>1996-02-22</td>\n",
       "      <td>Proposição Aprovada</td>\n",
       "      <td>Rede de Água / Esgoto / Pluvial</td>\n",
       "      <td>Vereador Henrique Fritz.</td>\n",
       "      <td>4</td>\n",
       "      <td>1996</td>\n",
       "      <td>prolongamento da rede d'água na Rua Reinhold S...</td>\n",
       "    </tr>\n",
       "    <tr>\n",
       "      <th>253</th>\n",
       "      <td>1996-02-22</td>\n",
       "      <td>1996-02-22</td>\n",
       "      <td>Proposição Aprovada</td>\n",
       "      <td>Limpeza, Macadamização, Patrolamento, Retifica...</td>\n",
       "      <td>Vereador Henrique Fritz.</td>\n",
       "      <td>3</td>\n",
       "      <td>1996</td>\n",
       "      <td>alargamento da Rua ID 90                      ...</td>\n",
       "    </tr>\n",
       "    <tr>\n",
       "      <th>254</th>\n",
       "      <td>1996-02-22</td>\n",
       "      <td>1996-02-22</td>\n",
       "      <td>Proposição Aprovada</td>\n",
       "      <td>Serviços e Obras</td>\n",
       "      <td>Vereador Henrique Fritz.</td>\n",
       "      <td>2</td>\n",
       "      <td>1996</td>\n",
       "      <td>construção de Escola nas imediações dos Loteam...</td>\n",
       "    </tr>\n",
       "    <tr>\n",
       "      <th>255</th>\n",
       "      <td>1996-02-22</td>\n",
       "      <td>1996-02-22</td>\n",
       "      <td>Proposição Aprovada</td>\n",
       "      <td>Serviços e Obras</td>\n",
       "      <td>Vereador Henrique Fritz.</td>\n",
       "      <td>1</td>\n",
       "      <td>1996</td>\n",
       "      <td>construção de Escola de 1º grau no Bairro Nova...</td>\n",
       "    </tr>\n",
       "  </tbody>\n",
       "</table>\n",
       "<p>256 rows × 8 columns</p>\n",
       "</div>"
      ],
      "text/plain": [
       "    DataReuniao DataDeliberacao             Situacao  \\\n",
       "0    1997-02-27      1997-02-27  Proposição Aprovada   \n",
       "1    1997-02-27      1997-02-27  Proposição Aprovada   \n",
       "2    1997-02-27      1997-02-27  Proposição Aprovada   \n",
       "3    1997-02-27      1997-02-27  Proposição Aprovada   \n",
       "4    1997-02-27      1997-02-27  Proposição Aprovada   \n",
       "..          ...             ...                  ...   \n",
       "251  1996-02-22      1996-02-22  Proposição Aprovada   \n",
       "252  1996-02-22      1996-02-22  Proposição Aprovada   \n",
       "253  1996-02-22      1996-02-22  Proposição Aprovada   \n",
       "254  1996-02-22      1996-02-22  Proposição Aprovada   \n",
       "255  1996-02-22      1996-02-22  Proposição Aprovada   \n",
       "\n",
       "                                               Assunto  \\\n",
       "0    Limpeza, Macadamização, Patrolamento, Retifica...   \n",
       "1                                             Diversos   \n",
       "2                                            Irrigação   \n",
       "3                                            Irrigação   \n",
       "4                                            Irrigação   \n",
       "..                                                 ...   \n",
       "251                    Rede de Água / Esgoto / Pluvial   \n",
       "252                    Rede de Água / Esgoto / Pluvial   \n",
       "253  Limpeza, Macadamização, Patrolamento, Retifica...   \n",
       "254                                   Serviços e Obras   \n",
       "255                                   Serviços e Obras   \n",
       "\n",
       "                                 Autor  Proposicao   Ano  \\\n",
       "0               Vereador Alinor Lauth.         232  1997   \n",
       "1    Vereador Sergio Almir dos Santos.         231  1997   \n",
       "2    Vereador Sergio Almir dos Santos.         230  1997   \n",
       "3    Vereador Sergio Almir dos Santos.         229  1997   \n",
       "4    Vereador Sergio Almir dos Santos.         228  1997   \n",
       "..                                 ...         ...   ...   \n",
       "251           Vereador Henrique Fritz.           5  1996   \n",
       "252           Vereador Henrique Fritz.           4  1996   \n",
       "253           Vereador Henrique Fritz.           3  1996   \n",
       "254           Vereador Henrique Fritz.           2  1996   \n",
       "255           Vereador Henrique Fritz.           1  1996   \n",
       "\n",
       "                                                 Texto  \n",
       "0    Limpeza, patrolamento e macadamização da rua T...  \n",
       "1    Reformar as dependências da Associação de Mora...  \n",
       "2    Irrigar a rua 16 de Julho, bairro Carijós.    ...  \n",
       "3    Irrigar a rua 25 de Julho, bairro Carijós.    ...  \n",
       "4    Irrigar a rua 11 de Junho, bairro Carijós.    ...  \n",
       "..                                                 ...  \n",
       "251  Prolongamento de rede d'água na Rua Lorenz até...  \n",
       "252  prolongamento da rede d'água na Rua Reinhold S...  \n",
       "253  alargamento da Rua ID 90                      ...  \n",
       "254  construção de Escola nas imediações dos Loteam...  \n",
       "255  construção de Escola de 1º grau no Bairro Nova...  \n",
       "\n",
       "[256 rows x 8 columns]"
      ]
     },
     "execution_count": 261,
     "metadata": {},
     "output_type": "execute_result"
    }
   ],
   "source": [
    "query_all = '''\n",
    "    Select \n",
    "    * \n",
    "    from Proposicoes\n",
    "    order by Ano desc, Proposicao desc\n",
    "'''\n",
    "query_max = '''\n",
    "    SELECT\n",
    "        maior = max(Proposicao)\n",
    "    from Proposicoes\n",
    "'''\n",
    "\n",
    "SQLSelect(query_all)"
   ]
  },
  {
   "cell_type": "code",
   "execution_count": 262,
   "id": "b64e45da",
   "metadata": {},
   "outputs": [],
   "source": [
    "# https://www.youtube.com/watch?v=kVYpd_CWLEM&list=PLQpSyz5rZmJr3OLXzK9DDwLU14VOpAbXh&index=4&t=3s"
   ]
  },
  {
   "cell_type": "code",
   "execution_count": null,
   "id": "0bb399eb",
   "metadata": {},
   "outputs": [],
   "source": []
  },
  {
   "cell_type": "code",
   "execution_count": null,
   "id": "3ede3040",
   "metadata": {},
   "outputs": [],
   "source": []
  },
  {
   "cell_type": "code",
   "execution_count": null,
   "id": "c8904e04",
   "metadata": {},
   "outputs": [],
   "source": []
  },
  {
   "cell_type": "code",
   "execution_count": null,
   "id": "d002a855",
   "metadata": {},
   "outputs": [],
   "source": []
  },
  {
   "cell_type": "code",
   "execution_count": null,
   "id": "07814655",
   "metadata": {},
   "outputs": [],
   "source": []
  },
  {
   "cell_type": "code",
   "execution_count": null,
   "id": "ad370023",
   "metadata": {},
   "outputs": [],
   "source": []
  },
  {
   "cell_type": "code",
   "execution_count": null,
   "id": "13b74a02",
   "metadata": {},
   "outputs": [],
   "source": []
  },
  {
   "cell_type": "code",
   "execution_count": null,
   "id": "09a04a78",
   "metadata": {},
   "outputs": [],
   "source": []
  },
  {
   "cell_type": "code",
   "execution_count": null,
   "id": "55e033a4",
   "metadata": {},
   "outputs": [],
   "source": []
  },
  {
   "cell_type": "code",
   "execution_count": null,
   "id": "d530e49d",
   "metadata": {},
   "outputs": [],
   "source": []
  },
  {
   "cell_type": "code",
   "execution_count": null,
   "id": "405c1ad9",
   "metadata": {},
   "outputs": [],
   "source": []
  },
  {
   "cell_type": "code",
   "execution_count": null,
   "id": "6f8642f2",
   "metadata": {},
   "outputs": [],
   "source": []
  },
  {
   "cell_type": "code",
   "execution_count": null,
   "id": "4997b3d2",
   "metadata": {},
   "outputs": [],
   "source": []
  },
  {
   "cell_type": "code",
   "execution_count": null,
   "id": "ce41d11a",
   "metadata": {},
   "outputs": [],
   "source": []
  }
 ],
 "metadata": {
  "kernelspec": {
   "display_name": "Python 3 (ipykernel)",
   "language": "python",
   "name": "python3"
  },
  "language_info": {
   "codemirror_mode": {
    "name": "ipython",
    "version": 3
   },
   "file_extension": ".py",
   "mimetype": "text/x-python",
   "name": "python",
   "nbconvert_exporter": "python",
   "pygments_lexer": "ipython3",
   "version": "3.11.1"
  }
 },
 "nbformat": 4,
 "nbformat_minor": 5
}
